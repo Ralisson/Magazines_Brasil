{
 "cells": [
  {
   "cell_type": "markdown",
   "metadata": {},
   "source": [
    ">>> # Análise do Mercado de Ações - Magazines de Moda do Brasil\n",
    "\n",
    ">>> ### Análise das principais redes de varejo de magazine das lojas C&A, Renner, Marisa e Ricahuelo\n",
    ">>> ##### Rálisson Araújo Ribeiro"
   ]
  },
  {
   "cell_type": "markdown",
   "metadata": {},
   "source": [
    "> #### Instalação dos principais pacotes para coletadas das ações no Yahoo Finance"
   ]
  },
  {
   "cell_type": "code",
   "execution_count": 1,
   "metadata": {},
   "outputs": [
    {
     "name": "stdout",
     "output_type": "stream",
     "text": [
      "package 'quantmod' successfully unpacked and MD5 sums checked\n",
      "\n",
      "The downloaded binary packages are in\n",
      "\tC:\\Users\\ralis\\AppData\\Local\\Temp\\Rtmp4sCujG\\downloaded_packages\n",
      "package 'xts' successfully unpacked and MD5 sums checked\n",
      "\n",
      "The downloaded binary packages are in\n",
      "\tC:\\Users\\ralis\\AppData\\Local\\Temp\\Rtmp4sCujG\\downloaded_packages\n",
      "package 'moments' successfully unpacked and MD5 sums checked\n",
      "\n",
      "The downloaded binary packages are in\n",
      "\tC:\\Users\\ralis\\AppData\\Local\\Temp\\Rtmp4sCujG\\downloaded_packages\n"
     ]
    },
    {
     "name": "stderr",
     "output_type": "stream",
     "text": [
      "Warning message:\n",
      "\"package 'quantmod' was built under R version 3.6.3\"Loading required package: xts\n",
      "Warning message:\n",
      "\"package 'xts' was built under R version 3.6.3\"Loading required package: zoo\n",
      "\n",
      "Attaching package: 'zoo'\n",
      "\n",
      "The following objects are masked from 'package:base':\n",
      "\n",
      "    as.Date, as.Date.numeric\n",
      "\n",
      "Loading required package: TTR\n",
      "Registered S3 method overwritten by 'quantmod':\n",
      "  method            from\n",
      "  as.zoo.data.frame zoo \n",
      "Version 0.4-0 included new data defaults. See ?getSymbols.\n"
     ]
    }
   ],
   "source": [
    "# Instalando os pacotes necessários para a analise\n",
    "install.packages(\"quantmod\")\n",
    "install.packages(\"xts\")\n",
    "install.packages(\"moments\")\n",
    "library(quantmod)\n",
    "library(xts)\n",
    "library(moments)"
   ]
  },
  {
   "cell_type": "markdown",
   "metadata": {},
   "source": [
    "> #### Definindo um período para análise das cotações"
   ]
  },
  {
   "cell_type": "code",
   "execution_count": 2,
   "metadata": {},
   "outputs": [],
   "source": [
    "#Selecionando as datas de inicio e fim\n",
    "\n",
    "StarDate = as.Date(\"2020-01-06\")\n",
    "EndDate = as.Date(\"2020-09-30\")"
   ]
  },
  {
   "cell_type": "markdown",
   "metadata": {},
   "source": [
    "> #### Coleta das informações diretamente no Yahoo Finance"
   ]
  },
  {
   "cell_type": "code",
   "execution_count": 3,
   "metadata": {},
   "outputs": [
    {
     "name": "stderr",
     "output_type": "stream",
     "text": [
      "'getSymbols' currently uses auto.assign=TRUE by default, but will\n",
      "use auto.assign=FALSE in 0.5-0. You will still be able to use\n",
      "'loadSymbols' to automatically load data. getOption(\"getSymbols.env\")\n",
      "and getOption(\"getSymbols.auto.assign\") will still be checked for\n",
      "alternate defaults.\n",
      "\n",
      "This message is shown once per session and may be disabled by setting \n",
      "options(\"getSymbols.warning4.0\"=FALSE). See ?getSymbols for details.\n",
      "\n",
      "Warning message:\n",
      "\"AMAR3.SA contains missing values. Some functions will not work if objects contain missing values in the middle of the series. Consider using na.omit(), na.approx(), na.fill(), etc to remove or replace them.\""
     ]
    },
    {
     "data": {
      "text/html": [
       "'AMAR3.SA'"
      ],
      "text/latex": [
       "'AMAR3.SA'"
      ],
      "text/markdown": [
       "'AMAR3.SA'"
      ],
      "text/plain": [
       "[1] \"AMAR3.SA\""
      ]
     },
     "metadata": {},
     "output_type": "display_data"
    },
    {
     "name": "stderr",
     "output_type": "stream",
     "text": [
      "Warning message:\n",
      "\"LREN3.SA contains missing values. Some functions will not work if objects contain missing values in the middle of the series. Consider using na.omit(), na.approx(), na.fill(), etc to remove or replace them.\""
     ]
    },
    {
     "data": {
      "text/html": [
       "'LREN3.SA'"
      ],
      "text/latex": [
       "'LREN3.SA'"
      ],
      "text/markdown": [
       "'LREN3.SA'"
      ],
      "text/plain": [
       "[1] \"LREN3.SA\""
      ]
     },
     "metadata": {},
     "output_type": "display_data"
    },
    {
     "name": "stderr",
     "output_type": "stream",
     "text": [
      "Warning message:\n",
      "\"GUAR3.SA contains missing values. Some functions will not work if objects contain missing values in the middle of the series. Consider using na.omit(), na.approx(), na.fill(), etc to remove or replace them.\""
     ]
    },
    {
     "data": {
      "text/html": [
       "'GUAR3.SA'"
      ],
      "text/latex": [
       "'GUAR3.SA'"
      ],
      "text/markdown": [
       "'GUAR3.SA'"
      ],
      "text/plain": [
       "[1] \"GUAR3.SA\""
      ]
     },
     "metadata": {},
     "output_type": "display_data"
    },
    {
     "name": "stderr",
     "output_type": "stream",
     "text": [
      "Warning message:\n",
      "\"CEAB3.SA contains missing values. Some functions will not work if objects contain missing values in the middle of the series. Consider using na.omit(), na.approx(), na.fill(), etc to remove or replace them.\""
     ]
    },
    {
     "data": {
      "text/html": [
       "'CEAB3.SA'"
      ],
      "text/latex": [
       "'CEAB3.SA'"
      ],
      "text/markdown": [
       "'CEAB3.SA'"
      ],
      "text/plain": [
       "[1] \"CEAB3.SA\""
      ]
     },
     "metadata": {},
     "output_type": "display_data"
    }
   ],
   "source": [
    "# Coletando as informações das ações\n",
    "\n",
    "getSymbols(\"AMAR3.SA\", src = \"yahoo\", from = StarDate, to = EndDate)\n",
    "getSymbols(\"LREN3.SA\", src = \"yahoo\", from = StarDate, to = EndDate)\n",
    "getSymbols(\"GUAR3.SA\", src = \"yahoo\", from = StarDate, to = EndDate)\n",
    "getSymbols(\"CEAB3.SA\", src = \"yahoo\", from = StarDate, to = EndDate)"
   ]
  },
  {
   "cell_type": "markdown",
   "metadata": {},
   "source": [
    "> #### Criando um gráfico, já com a soma das ações de Riachuelo, Renner, C&A e Marisa"
   ]
  },
  {
   "cell_type": "code",
   "execution_count": 4,
   "metadata": {},
   "outputs": [
    {
     "data": {
      "image/png": "[encoded data removed]",
      "text/plain": [
       "Plot with title \"[2020-01-06/2020-09-29]\""
      ]
     },
     "metadata": {},
     "output_type": "display_data"
    }
   ],
   "source": [
    "#Criando um gráfico\n",
    "candleChart(AMAR3.SA + LREN3.SA + GUAR3.SA + CEAB3.SA, multi.col= TRUE, theme= \"white\", name = \"Magazines\")"
   ]
  },
  {
   "cell_type": "markdown",
   "metadata": {},
   "source": [
    "#### Percebemos que o valor da soma das ações dos principais magazines do Brasil ainda não voltou para o patamar pré-covid. Esta sugestão de preço pode estar relacionada com a tendêcia baixa de consumo, porém a correlação deverá ser analisada com novos dados."
   ]
  }
 ],
 "metadata": {
  "kernelspec": {
   "display_name": "Python 3",
   "language": "python",
   "name": "python3"
  },
  "language_info": {
   "codemirror_mode": {
    "name": "ipython",
    "version": 3
   },
   "file_extension": ".py",
   "mimetype": "text/x-python",
   "name": "python",
   "nbconvert_exporter": "python",
   "pygments_lexer": "ipython3",
   "version": "3.7.9"
  }
 },
 "nbformat": 4,
 "nbformat_minor": 4
}
